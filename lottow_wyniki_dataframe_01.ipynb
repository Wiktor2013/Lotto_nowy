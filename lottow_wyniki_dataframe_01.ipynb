{
 "cells": [
  {
   "cell_type": "code",
   "execution_count": 13,
   "id": "3156e71c",
   "metadata": {},
   "outputs": [
    {
     "ename": "ValueError",
     "evalue": "dictionary update sequence element #0 has length 7; 2 is required",
     "output_type": "error",
     "traceback": [
      "\u001b[0;31m---------------------------------------------------------------------------\u001b[0m",
      "\u001b[0;31mValueError\u001b[0m                                Traceback (most recent call last)",
      "Cell \u001b[0;32mIn[13], line 14\u001b[0m\n\u001b[1;32m     11\u001b[0m data \u001b[38;5;241m=\u001b[39m data[\u001b[38;5;124m'\u001b[39m\u001b[38;5;124mitems\u001b[39m\u001b[38;5;124m'\u001b[39m]\n\u001b[1;32m     12\u001b[0m \u001b[38;5;66;03m#print(type(data))\u001b[39;00m\n\u001b[1;32m     13\u001b[0m \u001b[38;5;66;03m#print (\"initial dictionary\", str(data))\u001b[39;00m\n\u001b[0;32m---> 14\u001b[0m res \u001b[38;5;241m=\u001b[39m {k: v \u001b[38;5;28;01mfor\u001b[39;00m d \u001b[38;5;129;01min\u001b[39;00m \u001b[38;5;28;43mdict\u001b[39;49m\u001b[43m(\u001b[49m\u001b[43mdata\u001b[49m\u001b[43m)\u001b[49m \u001b[38;5;28;01mfor\u001b[39;00m k, v \u001b[38;5;129;01min\u001b[39;00m data[data\u001b[38;5;241m.\u001b[39mitems()]}\n\u001b[1;32m     16\u001b[0m \u001b[38;5;66;03m# printing result\u001b[39;00m\n\u001b[1;32m     17\u001b[0m \u001b[38;5;66;03m#print (\"result\", str(res))\u001b[39;00m\n\u001b[1;32m     18\u001b[0m df \u001b[38;5;241m=\u001b[39m pd\u001b[38;5;241m.\u001b[39mDataFrame(data)   \n",
      "\u001b[0;31mValueError\u001b[0m: dictionary update sequence element #0 has length 7; 2 is required"
     ]
    }
   ],
   "source": [
    "#Wersja pierwsza poprawnie działająca\n",
    "#Po długiej walce z próbami otwarcia pliku z wynikami, okazało się że najprostsze rozwiązania są najprostsze.\n",
    "#Wyniki losowań biorę stąd: https://www.lotto.pl/api/lotteries/draw-results/by-gametype?game=Lotto&index=1&size=7200&sort=drawDate&order=DESC\n",
    "#Po jakimś czasie trzeba zmienić parametr \"size\" na dzień 01/10/2024 są 7095 loswania\n",
    "#A rozwiązanie wszystkich moich problemów znalazłem tutaj:\n",
    "#https://stackoverflow.com/questions/49505872/read-json-to-pandas-dataframe-valueerror-mixing-dicts-with-non-series-may-lea\n",
    "\n",
    "import json\n",
    "import pandas as pd\n",
    "data = json.load(open('by-gametype.json'))\n",
    "data = data['items']\n",
    "df = pd.DataFrame(data)   \n",
    "#print(data)\n",
    "#print(df)"
   ]
  },
  {
   "cell_type": "code",
   "execution_count": null,
   "id": "cc22d363",
   "metadata": {},
   "outputs": [],
   "source": []
  }
 ],
 "metadata": {
  "kernelspec": {
   "display_name": "Python 3 (ipykernel)",
   "language": "python",
   "name": "python3"
  },
  "language_info": {
   "codemirror_mode": {
    "name": "ipython",
    "version": 3
   },
   "file_extension": ".py",
   "mimetype": "text/x-python",
   "name": "python",
   "nbconvert_exporter": "python",
   "pygments_lexer": "ipython3",
   "version": "3.12.3"
  }
 },
 "nbformat": 4,
 "nbformat_minor": 5
}
