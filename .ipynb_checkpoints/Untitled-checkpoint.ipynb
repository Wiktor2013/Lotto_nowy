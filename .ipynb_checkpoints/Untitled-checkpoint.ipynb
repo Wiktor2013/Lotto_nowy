{
 "cells": [
  {
   "cell_type": "code",
   "execution_count": 32,
   "id": "808cba9c",
   "metadata": {},
   "outputs": [
    {
     "name": "stdout",
     "output_type": "stream",
     "text": [
      "      drawSystemId              drawDate gameType  multiplierValue  \\\n",
      "0             7095  2024-09-21T22:00:00Z    Lotto                0   \n",
      "1             7094  2024-09-19T22:00:00Z    Lotto                0   \n",
      "2             7093  2024-09-17T22:00:00Z    Lotto                0   \n",
      "3             7092  2024-09-14T22:00:00Z    Lotto                0   \n",
      "4             7091  2024-09-12T22:00:00Z    Lotto                0   \n",
      "...            ...                   ...      ...              ...   \n",
      "7090             5  1957-02-24T00:00:00Z    Lotto                0   \n",
      "7091             4  1957-02-17T00:00:00Z    Lotto                0   \n",
      "7092             3  1957-02-10T00:00:00Z    Lotto                0   \n",
      "7093             2  1957-02-03T00:00:00Z    Lotto                0   \n",
      "7094             1  1957-01-27T00:00:00Z    Lotto                0   \n",
      "\n",
      "                                                results  showSpecialResults  \\\n",
      "0     [{'drawDate': '2024-09-21T22:00:00Z', 'drawSys...                True   \n",
      "1     [{'drawDate': '2024-09-19T22:00:00Z', 'drawSys...                True   \n",
      "2     [{'drawDate': '2024-09-17T22:00:00Z', 'drawSys...                True   \n",
      "3     [{'drawDate': '2024-09-14T22:00:00Z', 'drawSys...                True   \n",
      "4     [{'drawDate': '2024-09-12T22:00:00Z', 'drawSys...                True   \n",
      "...                                                 ...                 ...   \n",
      "7090  [{'drawDate': '1957-02-24T00:00:00Z', 'drawSys...                True   \n",
      "7091  [{'drawDate': '1957-02-17T00:00:00Z', 'drawSys...                True   \n",
      "7092  [{'drawDate': '1957-02-10T00:00:00Z', 'drawSys...                True   \n",
      "7093  [{'drawDate': '1957-02-03T00:00:00Z', 'drawSys...                True   \n",
      "7094  [{'drawDate': '1957-01-27T00:00:00Z', 'drawSys...                True   \n",
      "\n",
      "      isNewEuroJackpotDraw  \n",
      "0                    False  \n",
      "1                    False  \n",
      "2                    False  \n",
      "3                    False  \n",
      "4                    False  \n",
      "...                    ...  \n",
      "7090                 False  \n",
      "7091                 False  \n",
      "7092                 False  \n",
      "7093                 False  \n",
      "7094                 False  \n",
      "\n",
      "[7095 rows x 7 columns]\n"
     ]
    }
   ],
   "source": [
    "#Wersja pierwsza poprawnie działająca\n",
    "#Po długiej walce z próbami otwarcia pliku z wynikami, okazało się że najprostsze rozwiązania są najprostsze.\n",
    "#Wyniki losowań biorę stąd: https://www.lotto.pl/api/lotteries/draw-results/by-gametype?game=Lotto&index=1&size=7200&sort=drawDate&order=DESC\n",
    "#Po jakimś czasie trzeba zmienić parametr \"size\" na dzień 01/10/2024 są 7095 loswania\n",
    "#A rozwiązanie wszystkich moich problemów znalazłem tutaj:\n",
    "#https://stackoverflow.com/questions/49505872/read-json-to-pandas-dataframe-valueerror-mixing-dicts-with-non-series-may-lea\n",
    "\n",
    "import json\n",
    "import pandas as pd\n",
    "\n",
    "\n",
    "data = json.load(open('by-gametype.json'))\n",
    "df = pd.DataFrame(data[\"items\"])   \n",
    "#print(data)\n",
    "print(df)"
   ]
  },
  {
   "cell_type": "code",
   "execution_count": null,
   "id": "a82db8bb",
   "metadata": {},
   "outputs": [],
   "source": []
  }
 ],
 "metadata": {
  "kernelspec": {
   "display_name": "Python 3 (ipykernel)",
   "language": "python",
   "name": "python3"
  },
  "language_info": {
   "codemirror_mode": {
    "name": "ipython",
    "version": 3
   },
   "file_extension": ".py",
   "mimetype": "text/x-python",
   "name": "python",
   "nbconvert_exporter": "python",
   "pygments_lexer": "ipython3",
   "version": "3.12.3"
  }
 },
 "nbformat": 4,
 "nbformat_minor": 5
}
