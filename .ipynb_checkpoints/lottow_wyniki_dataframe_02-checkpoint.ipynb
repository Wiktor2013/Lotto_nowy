{
 "cells": [
  {
   "cell_type": "code",
   "execution_count": null,
   "id": "dc5c87ca",
   "metadata": {},
   "outputs": [],
   "source": [
    "#Wersja pierwsza poprawnie działająca\n",
    "#Po długiej walce z próbami otwarcia pliku z wynikami, okazało się że najprostsze rozwiązania są najprostsze.\n",
    "#Wyniki losowań biorę stąd: https://www.lotto.pl/api/lotteries/draw-results/by-gametype?game=Lotto&index=1&size=7200&sort=drawDate&order=DESC\n",
    "#Po jakimś czasie trzeba zmienić parametr \"size\" na dzień 01/10/2024 są 7095 loswania\n",
    "#A rozwiązanie wszystkich moich problemów znalazłem tutaj:\n",
    "#https://stackoverflow.com/questions/49505872/read-json-to-pandas-dataframe-valueerror-mixing-dicts-with-non-series-may-lea\n",
    "#Teraz trzeba spłaszczyć, tzn rozwinąć wszystkie podsłowniki poprzednia wersja tego nie robiła\n",
    "import json\n",
    "import pandas as pd\n",
    "\n",
    "\n",
    "data = json.load(open('by-gametype.json'))\n",
    "df = pd.DataFrame(data[\"items\"])   \n",
    "#print(data)\n",
    "print(df)"
   ]
  }
 ],
 "metadata": {
  "kernelspec": {
   "display_name": "Python 3 (ipykernel)",
   "language": "python",
   "name": "python3"
  },
  "language_info": {
   "codemirror_mode": {
    "name": "ipython",
    "version": 3
   },
   "file_extension": ".py",
   "mimetype": "text/x-python",
   "name": "python",
   "nbconvert_exporter": "python",
   "pygments_lexer": "ipython3",
   "version": "3.12.3"
  }
 },
 "nbformat": 4,
 "nbformat_minor": 5
}
