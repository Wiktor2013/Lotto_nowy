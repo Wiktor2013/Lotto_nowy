{
 "cells": [
  {
   "cell_type": "code",
   "execution_count": 7,
   "id": "37d012ed",
   "metadata": {},
   "outputs": [
    {
     "name": "stdout",
     "output_type": "stream",
     "text": [
      "[4, 24, 12, 5, 36, 39]\n"
     ]
    }
   ],
   "source": [
    "#Wersja druga poprawnie działająca\n",
    "#Po długiej walce z próbami otwarcia pliku z wynikami, okazało się że najprostsze rozwiązania są najprostsze.\n",
    "#Wyniki losowań biorę stąd: https://www.lotto.pl/api/lotteries/draw-results/by-gametype?game=Lotto&index=1&size=7200&sort=drawDate&order=DESC\n",
    "#Po jakimś czasie trzeba zmienić parametr \"size\" na dzień 01/10/2024 są 7095 loswania\n",
    "#A rozwiązanie wszystkich moich problemów znalazłem tutaj:\n",
    "#https://stackoverflow.com/questions/49505872/read-json-to-pandas-dataframe-valueerror-mixing-dicts-with-non-series-may-lea\n",
    "#Teraz trzeba spłaszczyć, tzn rozwinąć wszystkie podsłowniki\n",
    "#funkcja spłaszczająca nie wiem skąd się wzięła ale teraz nie działa po skopiowaniu.\n",
    "import json\n",
    "import pandas as pd\n",
    "\n",
    "# flattening the data in dict\n",
    "def flatten_json(y):\n",
    "    out = {}\n",
    "\n",
    "    def flatten(x, name=''):\n",
    "        if type(x) is dict:\n",
    "            for a in x:\n",
    "                flatten(x[a], name + a + \"_\")\n",
    "        elif type(x) is list:\n",
    "            i = 0\n",
    "            for a in x:\n",
    "                flatten(a, name + str(i) + \"_\")\n",
    "                i += 1\n",
    "        else:\n",
    "            out[name[:-1]] = x\n",
    "    flatten(y)\n",
    "    return out\n",
    "\n",
    "\n",
    "data = json.load(open('by-gametype.json'))\n",
    "\n",
    "wyniki = flatten_json(data)\n",
    "\n",
    "df = pd.DataFrame(data[\"items\"])   \n",
    "#print(data)\n",
    "print(df['results'][0][0]['resultsJson'][0:6])"
   ]
  },
  {
   "cell_type": "code",
   "execution_count": null,
   "id": "5870f76a",
   "metadata": {},
   "outputs": [],
   "source": []
  }
 ],
 "metadata": {
  "kernelspec": {
   "display_name": "Python 3 (ipykernel)",
   "language": "python",
   "name": "python3"
  },
  "language_info": {
   "codemirror_mode": {
    "name": "ipython",
    "version": 3
   },
   "file_extension": ".py",
   "mimetype": "text/x-python",
   "name": "python",
   "nbconvert_exporter": "python",
   "pygments_lexer": "ipython3",
   "version": "3.12.3"
  }
 },
 "nbformat": 4,
 "nbformat_minor": 5
}
