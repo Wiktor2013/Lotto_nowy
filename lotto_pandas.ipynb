{
 "cells": [
  {
   "cell_type": "code",
   "execution_count": 48,
   "id": "efd1bbac",
   "metadata": {},
   "outputs": [],
   "source": [
    "import json\n",
    "with open('/home/sanczo/PycharmProjects/Lotto_nowy/by-gametype.json', 'r') as f:\n",
    "    data = json.load(f)"
   ]
  },
  {
   "cell_type": "code",
   "execution_count": 49,
   "id": "3320d108",
   "metadata": {},
   "outputs": [],
   "source": [
    "import pandas as pd\n",
    "df = pd.DataFrame.from_dict(data)\n",
    "#pd.read_json (r'/home/sanczo/PycharmProjects/Lotto_nowy/by-gametype.json')"
   ]
  },
  {
   "cell_type": "code",
   "execution_count": 50,
   "id": "dfb5b3b4",
   "metadata": {},
   "outputs": [
    {
     "data": {
      "text/html": [
       "<div>\n",
       "<style scoped>\n",
       "    .dataframe tbody tr th:only-of-type {\n",
       "        vertical-align: middle;\n",
       "    }\n",
       "\n",
       "    .dataframe tbody tr th {\n",
       "        vertical-align: top;\n",
       "    }\n",
       "\n",
       "    .dataframe thead th {\n",
       "        text-align: right;\n",
       "    }\n",
       "</style>\n",
       "<table border=\"1\" class=\"dataframe\">\n",
       "  <thead>\n",
       "    <tr style=\"text-align: right;\">\n",
       "      <th></th>\n",
       "      <th>drawSystemId</th>\n",
       "      <th>drawDate</th>\n",
       "      <th>gameType</th>\n",
       "      <th>multiplierValue</th>\n",
       "      <th>results</th>\n",
       "      <th>showSpecialResults</th>\n",
       "    </tr>\n",
       "  </thead>\n",
       "  <tbody>\n",
       "    <tr>\n",
       "      <th>0</th>\n",
       "      <td>6625</td>\n",
       "      <td>2021-09-21T21:50:00Z</td>\n",
       "      <td>Lotto</td>\n",
       "      <td>0</td>\n",
       "      <td>[{'drawDate': '2021-09-21T21:50:00Z', 'drawSys...</td>\n",
       "      <td>True</td>\n",
       "    </tr>\n",
       "    <tr>\n",
       "      <th>1</th>\n",
       "      <td>6624</td>\n",
       "      <td>2021-09-18T21:50:00Z</td>\n",
       "      <td>Lotto</td>\n",
       "      <td>0</td>\n",
       "      <td>[{'drawDate': '2021-09-18T21:50:00Z', 'drawSys...</td>\n",
       "      <td>True</td>\n",
       "    </tr>\n",
       "    <tr>\n",
       "      <th>2</th>\n",
       "      <td>6623</td>\n",
       "      <td>2021-09-16T21:50:00Z</td>\n",
       "      <td>Lotto</td>\n",
       "      <td>0</td>\n",
       "      <td>[{'drawDate': '2021-09-16T21:50:00Z', 'drawSys...</td>\n",
       "      <td>True</td>\n",
       "    </tr>\n",
       "    <tr>\n",
       "      <th>3</th>\n",
       "      <td>6622</td>\n",
       "      <td>2021-09-14T21:50:00Z</td>\n",
       "      <td>Lotto</td>\n",
       "      <td>0</td>\n",
       "      <td>[{'drawDate': '2021-09-14T21:50:00Z', 'drawSys...</td>\n",
       "      <td>True</td>\n",
       "    </tr>\n",
       "    <tr>\n",
       "      <th>4</th>\n",
       "      <td>6621</td>\n",
       "      <td>2021-09-11T21:50:00Z</td>\n",
       "      <td>Lotto</td>\n",
       "      <td>0</td>\n",
       "      <td>[{'drawDate': '2021-09-11T21:50:00Z', 'drawSys...</td>\n",
       "      <td>True</td>\n",
       "    </tr>\n",
       "  </tbody>\n",
       "</table>\n",
       "</div>"
      ],
      "text/plain": [
       "   drawSystemId              drawDate gameType  multiplierValue  \\\n",
       "0          6625  2021-09-21T21:50:00Z    Lotto                0   \n",
       "1          6624  2021-09-18T21:50:00Z    Lotto                0   \n",
       "2          6623  2021-09-16T21:50:00Z    Lotto                0   \n",
       "3          6622  2021-09-14T21:50:00Z    Lotto                0   \n",
       "4          6621  2021-09-11T21:50:00Z    Lotto                0   \n",
       "\n",
       "                                             results  showSpecialResults  \n",
       "0  [{'drawDate': '2021-09-21T21:50:00Z', 'drawSys...                True  \n",
       "1  [{'drawDate': '2021-09-18T21:50:00Z', 'drawSys...                True  \n",
       "2  [{'drawDate': '2021-09-16T21:50:00Z', 'drawSys...                True  \n",
       "3  [{'drawDate': '2021-09-14T21:50:00Z', 'drawSys...                True  \n",
       "4  [{'drawDate': '2021-09-11T21:50:00Z', 'drawSys...                True  "
      ]
     },
     "execution_count": 50,
     "metadata": {},
     "output_type": "execute_result"
    }
   ],
   "source": [
    "df.head()"
   ]
  },
  {
   "cell_type": "code",
   "execution_count": null,
   "id": "87da235e",
   "metadata": {},
   "outputs": [],
   "source": []
  }
 ],
 "metadata": {
  "kernelspec": {
   "display_name": "Python 3 (ipykernel)",
   "language": "python",
   "name": "python3"
  },
  "language_info": {
   "codemirror_mode": {
    "name": "ipython",
    "version": 3
   },
   "file_extension": ".py",
   "mimetype": "text/x-python",
   "name": "python",
   "nbconvert_exporter": "python",
   "pygments_lexer": "ipython3",
   "version": "3.8.10"
  }
 },
 "nbformat": 4,
 "nbformat_minor": 5
}
